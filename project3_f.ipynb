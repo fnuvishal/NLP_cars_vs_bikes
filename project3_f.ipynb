{
 "cells": [
  {
   "cell_type": "markdown",
   "metadata": {},
   "source": [
    "# PART 1: Data Collection of Cars and Motorcycles Subreddits "
   ]
  },
  {
   "cell_type": "code",
   "execution_count": 1,
   "metadata": {},
   "outputs": [],
   "source": [
    "#Importing libraries\n",
    "import requests\n",
    "import pandas as pd\n",
    "import time\n",
    "import datetime as dt"
   ]
  },
  {
   "cell_type": "code",
   "execution_count": 2,
   "metadata": {},
   "outputs": [],
   "source": [
    "s_type='submission'\n",
    "url= f'https://api.pushshift.io/reddit/search/{s_type}'"
   ]
  },
  {
   "cell_type": "code",
   "execution_count": 3,
   "metadata": {},
   "outputs": [],
   "source": [
    "# for car reddit\n",
    "\n",
    "# parameters dictionary\n",
    "params = {\n",
    "    'subreddit': 'cars',\n",
    "    'size': 500,\n",
    "    'before': 1626811825\n",
    "}\n",
    "res=requests.get(url,params)\n",
    "assert res.status_code==200       # to check if our request is successfull\n",
    "post_list=res.json()['data']      # collect only post_data"
   ]
  },
  {
   "cell_type": "code",
   "execution_count": 4,
   "metadata": {},
   "outputs": [
    {
     "data": {
      "text/plain": [
       "200"
      ]
     },
     "execution_count": 4,
     "metadata": {},
     "output_type": "execute_result"
    }
   ],
   "source": [
    "res.status_code"
   ]
  },
  {
   "cell_type": "code",
   "execution_count": 5,
   "metadata": {},
   "outputs": [
    {
     "data": {
      "text/plain": [
       "100"
      ]
     },
     "execution_count": 5,
     "metadata": {},
     "output_type": "execute_result"
    }
   ],
   "source": [
    "len(post_list)"
   ]
  },
  {
   "cell_type": "code",
   "execution_count": 6,
   "metadata": {},
   "outputs": [],
   "source": [
    "full_df=pd.DataFrame(post_list)[['title','subreddit','created_utc']]"
   ]
  },
  {
   "cell_type": "code",
   "execution_count": 7,
   "metadata": {},
   "outputs": [],
   "source": [
    "full_df.to_csv('cars_posts.csv')"
   ]
  },
  {
   "cell_type": "code",
   "execution_count": 8,
   "metadata": {},
   "outputs": [],
   "source": [
    "# function to pushshift 5000 posts\n",
    "unix_time_stamp=1626811825\n",
    "def pushshift_query(full_df_path,subreddit,s_type,iters=50):\n",
    "    for pull in range(iters):\n",
    "        full_df=pd.read_csv(full_df_path)\n",
    "        url=f'https://api.pushshift.io/reddit/search/{s_type}/?subreddit={subreddit}&before={full_df[\"created_utc\"].min()}&size=100'\n",
    "        \n",
    "        res=requests.get(url)\n",
    "        if res.status_code==200:\n",
    "            post_list=res.json()['data']\n",
    "            temp_df=pd.DataFrame(post_list)[['title','subreddit','created_utc']]\n",
    "            full_df=pd.concat([full_df,temp_df])\n",
    "            print(full_df.shape)\n",
    "            print(full_df['title'].nunique())\n",
    "            print('waiting until next pull....')\n",
    "            \n",
    "            time.sleep(8)\n",
    "        else:\n",
    "            continue\n",
    "        full_df.to_csv(full_df_path,index=False)"
   ]
  },
  {
   "cell_type": "code",
   "execution_count": 9,
   "metadata": {},
   "outputs": [
    {
     "name": "stdout",
     "output_type": "stream",
     "text": [
      "(200, 4)\n",
      "194\n",
      "waiting until next pull....\n",
      "(300, 4)\n",
      "294\n",
      "waiting until next pull....\n",
      "(400, 4)\n",
      "391\n",
      "waiting until next pull....\n",
      "(500, 4)\n",
      "489\n",
      "waiting until next pull....\n",
      "(600, 4)\n",
      "586\n",
      "waiting until next pull....\n",
      "(700, 4)\n",
      "683\n",
      "waiting until next pull....\n",
      "(800, 4)\n",
      "782\n",
      "waiting until next pull....\n",
      "(900, 4)\n",
      "881\n",
      "waiting until next pull....\n",
      "(1000, 4)\n",
      "979\n",
      "waiting until next pull....\n",
      "(1100, 4)\n",
      "1079\n",
      "waiting until next pull....\n",
      "(1200, 4)\n",
      "1178\n",
      "waiting until next pull....\n",
      "(1300, 4)\n",
      "1276\n",
      "waiting until next pull....\n",
      "(1400, 4)\n",
      "1373\n",
      "waiting until next pull....\n",
      "(1500, 4)\n",
      "1469\n",
      "waiting until next pull....\n",
      "(1600, 4)\n",
      "1568\n",
      "waiting until next pull....\n",
      "(1700, 4)\n",
      "1663\n",
      "waiting until next pull....\n",
      "(1800, 4)\n",
      "1755\n",
      "waiting until next pull....\n",
      "(1900, 4)\n",
      "1851\n",
      "waiting until next pull....\n",
      "(2000, 4)\n",
      "1949\n",
      "waiting until next pull....\n",
      "(2100, 4)\n",
      "2045\n",
      "waiting until next pull....\n",
      "(2200, 4)\n",
      "2139\n",
      "waiting until next pull....\n",
      "(2300, 4)\n",
      "2236\n",
      "waiting until next pull....\n",
      "(2400, 4)\n",
      "2332\n",
      "waiting until next pull....\n",
      "(2500, 4)\n",
      "2428\n",
      "waiting until next pull....\n",
      "(2600, 4)\n",
      "2525\n",
      "waiting until next pull....\n",
      "(2700, 4)\n",
      "2623\n",
      "waiting until next pull....\n",
      "(2800, 4)\n",
      "2719\n",
      "waiting until next pull....\n",
      "(2900, 4)\n",
      "2815\n",
      "waiting until next pull....\n",
      "(3000, 4)\n",
      "2908\n",
      "waiting until next pull....\n",
      "(3100, 4)\n",
      "3007\n",
      "waiting until next pull....\n",
      "(3200, 4)\n",
      "3105\n",
      "waiting until next pull....\n",
      "(3300, 4)\n",
      "3201\n",
      "waiting until next pull....\n",
      "(3400, 4)\n",
      "3295\n",
      "waiting until next pull....\n",
      "(3500, 4)\n",
      "3394\n",
      "waiting until next pull....\n",
      "(3600, 4)\n",
      "3491\n",
      "waiting until next pull....\n",
      "(3700, 4)\n",
      "3586\n",
      "waiting until next pull....\n",
      "(3800, 4)\n",
      "3685\n",
      "waiting until next pull....\n",
      "(3900, 4)\n",
      "3780\n",
      "waiting until next pull....\n",
      "(4000, 4)\n",
      "3874\n",
      "waiting until next pull....\n",
      "(4100, 4)\n",
      "3971\n",
      "waiting until next pull....\n",
      "(4200, 4)\n",
      "4069\n",
      "waiting until next pull....\n",
      "(4300, 4)\n",
      "4166\n",
      "waiting until next pull....\n",
      "(4400, 4)\n",
      "4263\n",
      "waiting until next pull....\n",
      "(4500, 4)\n",
      "4358\n",
      "waiting until next pull....\n",
      "(4600, 4)\n",
      "4455\n",
      "waiting until next pull....\n",
      "(4700, 4)\n",
      "4551\n",
      "waiting until next pull....\n",
      "(4800, 4)\n",
      "4648\n",
      "waiting until next pull....\n",
      "(4900, 4)\n",
      "4746\n",
      "waiting until next pull....\n",
      "(5000, 4)\n",
      "4842\n",
      "waiting until next pull....\n"
     ]
    }
   ],
   "source": [
    "pushshift_query(full_df_path='cars_posts.csv',subreddit='cars',s_type='submission')"
   ]
  },
  {
   "cell_type": "code",
   "execution_count": 10,
   "metadata": {},
   "outputs": [],
   "source": [
    "# for motorcycles reddit\n",
    "params2 = {\n",
    "    'subreddit': 'motorcycles',\n",
    "    'size': 500,\n",
    "    'before': 1626811825\n",
    "}\n",
    "res2=requests.get(url,params2)\n",
    "assert res2.status_code==200\n",
    "post_list2 = res2.json()['data']"
   ]
  },
  {
   "cell_type": "code",
   "execution_count": 11,
   "metadata": {},
   "outputs": [],
   "source": [
    "#converting data to DataFrame \n",
    "full_df2 = pd.DataFrame(post_list2)[['title','subreddit','created_utc']]"
   ]
  },
  {
   "cell_type": "code",
   "execution_count": 12,
   "metadata": {},
   "outputs": [],
   "source": [
    "#saving data to csv file\n",
    "full_df2.to_csv('motorcycles_posts.csv')"
   ]
  },
  {
   "cell_type": "code",
   "execution_count": 13,
   "metadata": {},
   "outputs": [
    {
     "name": "stdout",
     "output_type": "stream",
     "text": [
      "(200, 4)\n",
      "198\n",
      "waiting until next pull....\n",
      "(300, 4)\n",
      "295\n",
      "waiting until next pull....\n",
      "(400, 4)\n",
      "392\n",
      "waiting until next pull....\n",
      "(500, 4)\n",
      "488\n",
      "waiting until next pull....\n",
      "(600, 4)\n",
      "586\n",
      "waiting until next pull....\n",
      "(700, 4)\n",
      "685\n",
      "waiting until next pull....\n",
      "(800, 4)\n",
      "780\n",
      "waiting until next pull....\n",
      "(900, 4)\n",
      "878\n",
      "waiting until next pull....\n",
      "(1000, 4)\n",
      "975\n",
      "waiting until next pull....\n",
      "(1100, 4)\n",
      "1074\n",
      "waiting until next pull....\n",
      "(1200, 4)\n",
      "1171\n",
      "waiting until next pull....\n",
      "(1300, 4)\n",
      "1265\n",
      "waiting until next pull....\n",
      "(1400, 4)\n",
      "1363\n",
      "waiting until next pull....\n",
      "(1500, 4)\n",
      "1463\n",
      "waiting until next pull....\n",
      "(1600, 4)\n",
      "1561\n",
      "waiting until next pull....\n",
      "(1700, 4)\n",
      "1658\n",
      "waiting until next pull....\n",
      "(1800, 4)\n",
      "1756\n",
      "waiting until next pull....\n",
      "(1900, 4)\n",
      "1853\n",
      "waiting until next pull....\n",
      "(2000, 4)\n",
      "1951\n",
      "waiting until next pull....\n",
      "(2100, 4)\n",
      "2049\n",
      "waiting until next pull....\n",
      "(2200, 4)\n",
      "2148\n",
      "waiting until next pull....\n",
      "(2300, 4)\n",
      "2247\n",
      "waiting until next pull....\n",
      "(2400, 4)\n",
      "2344\n",
      "waiting until next pull....\n",
      "(2500, 4)\n",
      "2443\n",
      "waiting until next pull....\n",
      "(2600, 4)\n",
      "2541\n",
      "waiting until next pull....\n",
      "(2700, 4)\n",
      "2636\n",
      "waiting until next pull....\n",
      "(2800, 4)\n",
      "2734\n",
      "waiting until next pull....\n",
      "(2900, 4)\n",
      "2831\n",
      "waiting until next pull....\n",
      "(3000, 4)\n",
      "2929\n",
      "waiting until next pull....\n",
      "(3100, 4)\n",
      "3026\n",
      "waiting until next pull....\n",
      "(3200, 4)\n",
      "3121\n",
      "waiting until next pull....\n",
      "(3300, 4)\n",
      "3219\n",
      "waiting until next pull....\n",
      "(3400, 4)\n",
      "3314\n",
      "waiting until next pull....\n",
      "(3500, 4)\n",
      "3411\n",
      "waiting until next pull....\n",
      "(3600, 4)\n",
      "3510\n",
      "waiting until next pull....\n",
      "(3700, 4)\n",
      "3608\n",
      "waiting until next pull....\n",
      "(3800, 4)\n",
      "3706\n",
      "waiting until next pull....\n",
      "(3900, 4)\n",
      "3802\n",
      "waiting until next pull....\n",
      "(4000, 4)\n",
      "3900\n",
      "waiting until next pull....\n",
      "(4100, 4)\n",
      "3997\n",
      "waiting until next pull....\n",
      "(4200, 4)\n",
      "4092\n",
      "waiting until next pull....\n",
      "(4300, 4)\n",
      "4192\n",
      "waiting until next pull....\n",
      "(4400, 4)\n",
      "4288\n",
      "waiting until next pull....\n",
      "(4500, 4)\n",
      "4384\n",
      "waiting until next pull....\n",
      "(4600, 4)\n",
      "4480\n",
      "waiting until next pull....\n",
      "(4700, 4)\n",
      "4574\n",
      "waiting until next pull....\n",
      "(4800, 4)\n",
      "4673\n",
      "waiting until next pull....\n",
      "(4900, 4)\n",
      "4771\n",
      "waiting until next pull....\n",
      "(5000, 4)\n",
      "4868\n",
      "waiting until next pull....\n",
      "(5100, 4)\n",
      "4964\n",
      "waiting until next pull....\n"
     ]
    }
   ],
   "source": [
    "pushshift_query(full_df_path='motorcycles_posts.csv',subreddit='motorcycles',s_type='submission')"
   ]
  },
  {
   "cell_type": "markdown",
   "metadata": {},
   "source": [
    "# PART 2: Data Preprocessing"
   ]
  },
  {
   "cell_type": "code",
   "execution_count": 14,
   "metadata": {},
   "outputs": [],
   "source": [
    "import pandas as pd"
   ]
  },
  {
   "cell_type": "code",
   "execution_count": 15,
   "metadata": {},
   "outputs": [],
   "source": [
    "# loading cars_posts csv file\n",
    "cars_df = pd.read_csv('cars_posts.csv').drop(columns='Unnamed: 0')\n",
    "cars_df['target'] = 0\n",
    "cars_df = cars_df.drop(['subreddit','created_utc'],axis = 1)"
   ]
  },
  {
   "cell_type": "code",
   "execution_count": 16,
   "metadata": {},
   "outputs": [
    {
     "data": {
      "text/html": [
       "<div>\n",
       "<style scoped>\n",
       "    .dataframe tbody tr th:only-of-type {\n",
       "        vertical-align: middle;\n",
       "    }\n",
       "\n",
       "    .dataframe tbody tr th {\n",
       "        vertical-align: top;\n",
       "    }\n",
       "\n",
       "    .dataframe thead th {\n",
       "        text-align: right;\n",
       "    }\n",
       "</style>\n",
       "<table border=\"1\" class=\"dataframe\">\n",
       "  <thead>\n",
       "    <tr style=\"text-align: right;\">\n",
       "      <th></th>\n",
       "      <th>title</th>\n",
       "      <th>target</th>\n",
       "    </tr>\n",
       "  </thead>\n",
       "  <tbody>\n",
       "    <tr>\n",
       "      <th>0</th>\n",
       "      <td>Warning lights come on when driving fast</td>\n",
       "      <td>0</td>\n",
       "    </tr>\n",
       "    <tr>\n",
       "      <th>1</th>\n",
       "      <td>to buy or not to buy (in la)</td>\n",
       "      <td>0</td>\n",
       "    </tr>\n",
       "    <tr>\n",
       "      <th>2</th>\n",
       "      <td>2005 Honda Accord LX, 4 cyl, 154,000 miles. Ba...</td>\n",
       "      <td>0</td>\n",
       "    </tr>\n",
       "    <tr>\n",
       "      <th>3</th>\n",
       "      <td>Exterior windshield tint to block UV &amp;amp; IR ...</td>\n",
       "      <td>0</td>\n",
       "    </tr>\n",
       "    <tr>\n",
       "      <th>4</th>\n",
       "      <td>Can I fix my leather imitation seats myself?</td>\n",
       "      <td>0</td>\n",
       "    </tr>\n",
       "  </tbody>\n",
       "</table>\n",
       "</div>"
      ],
      "text/plain": [
       "                                               title  target\n",
       "0           Warning lights come on when driving fast       0\n",
       "1                       to buy or not to buy (in la)       0\n",
       "2  2005 Honda Accord LX, 4 cyl, 154,000 miles. Ba...       0\n",
       "3  Exterior windshield tint to block UV &amp; IR ...       0\n",
       "4       Can I fix my leather imitation seats myself?       0"
      ]
     },
     "execution_count": 16,
     "metadata": {},
     "output_type": "execute_result"
    }
   ],
   "source": [
    "cars_df.head()"
   ]
  },
  {
   "cell_type": "code",
   "execution_count": 17,
   "metadata": {},
   "outputs": [],
   "source": [
    "# loading motorcycles_posts csv file\n",
    "motorcycles_df = pd.read_csv('motorcycles_posts.csv').drop(columns='Unnamed: 0')\n",
    "motorcycles_df['target'] = 1\n",
    "motorcycles_df = motorcycles_df.drop(['subreddit','created_utc'],axis = 1)"
   ]
  },
  {
   "cell_type": "code",
   "execution_count": 18,
   "metadata": {},
   "outputs": [
    {
     "data": {
      "text/html": [
       "<div>\n",
       "<style scoped>\n",
       "    .dataframe tbody tr th:only-of-type {\n",
       "        vertical-align: middle;\n",
       "    }\n",
       "\n",
       "    .dataframe tbody tr th {\n",
       "        vertical-align: top;\n",
       "    }\n",
       "\n",
       "    .dataframe thead th {\n",
       "        text-align: right;\n",
       "    }\n",
       "</style>\n",
       "<table border=\"1\" class=\"dataframe\">\n",
       "  <thead>\n",
       "    <tr style=\"text-align: right;\">\n",
       "      <th></th>\n",
       "      <th>title</th>\n",
       "      <th>target</th>\n",
       "    </tr>\n",
       "  </thead>\n",
       "  <tbody>\n",
       "    <tr>\n",
       "      <th>0</th>\n",
       "      <td>Recently got my dream bike and made a video ab...</td>\n",
       "      <td>1</td>\n",
       "    </tr>\n",
       "    <tr>\n",
       "      <th>1</th>\n",
       "      <td>Cruiser Wrist Discomfort</td>\n",
       "      <td>1</td>\n",
       "    </tr>\n",
       "    <tr>\n",
       "      <th>2</th>\n",
       "      <td>I hear a squealing sound when Giving my bike t...</td>\n",
       "      <td>1</td>\n",
       "    </tr>\n",
       "    <tr>\n",
       "      <th>3</th>\n",
       "      <td>Are bootleg or flare leg jeans safe on a motor...</td>\n",
       "      <td>1</td>\n",
       "    </tr>\n",
       "    <tr>\n",
       "      <th>4</th>\n",
       "      <td>Ruroc Atlas 3.0 Review - The good and the bad</td>\n",
       "      <td>1</td>\n",
       "    </tr>\n",
       "  </tbody>\n",
       "</table>\n",
       "</div>"
      ],
      "text/plain": [
       "                                               title  target\n",
       "0  Recently got my dream bike and made a video ab...       1\n",
       "1                           Cruiser Wrist Discomfort       1\n",
       "2  I hear a squealing sound when Giving my bike t...       1\n",
       "3  Are bootleg or flare leg jeans safe on a motor...       1\n",
       "4      Ruroc Atlas 3.0 Review - The good and the bad       1"
      ]
     },
     "execution_count": 18,
     "metadata": {},
     "output_type": "execute_result"
    }
   ],
   "source": [
    "motorcycles_df.head()"
   ]
  },
  {
   "cell_type": "code",
   "execution_count": 19,
   "metadata": {},
   "outputs": [],
   "source": [
    "# joining both datafraames into one\n",
    "final_df = pd.concat([cars_df,motorcycles_df])   "
   ]
  },
  {
   "cell_type": "code",
   "execution_count": 20,
   "metadata": {},
   "outputs": [
    {
     "data": {
      "text/html": [
       "<div>\n",
       "<style scoped>\n",
       "    .dataframe tbody tr th:only-of-type {\n",
       "        vertical-align: middle;\n",
       "    }\n",
       "\n",
       "    .dataframe tbody tr th {\n",
       "        vertical-align: top;\n",
       "    }\n",
       "\n",
       "    .dataframe thead th {\n",
       "        text-align: right;\n",
       "    }\n",
       "</style>\n",
       "<table border=\"1\" class=\"dataframe\">\n",
       "  <thead>\n",
       "    <tr style=\"text-align: right;\">\n",
       "      <th></th>\n",
       "      <th>title</th>\n",
       "      <th>target</th>\n",
       "    </tr>\n",
       "  </thead>\n",
       "  <tbody>\n",
       "    <tr>\n",
       "      <th>0</th>\n",
       "      <td>Warning lights come on when driving fast</td>\n",
       "      <td>0</td>\n",
       "    </tr>\n",
       "    <tr>\n",
       "      <th>1</th>\n",
       "      <td>to buy or not to buy (in la)</td>\n",
       "      <td>0</td>\n",
       "    </tr>\n",
       "    <tr>\n",
       "      <th>2</th>\n",
       "      <td>2005 Honda Accord LX, 4 cyl, 154,000 miles. Ba...</td>\n",
       "      <td>0</td>\n",
       "    </tr>\n",
       "    <tr>\n",
       "      <th>3</th>\n",
       "      <td>Exterior windshield tint to block UV &amp;amp; IR ...</td>\n",
       "      <td>0</td>\n",
       "    </tr>\n",
       "    <tr>\n",
       "      <th>4</th>\n",
       "      <td>Can I fix my leather imitation seats myself?</td>\n",
       "      <td>0</td>\n",
       "    </tr>\n",
       "  </tbody>\n",
       "</table>\n",
       "</div>"
      ],
      "text/plain": [
       "                                               title  target\n",
       "0           Warning lights come on when driving fast       0\n",
       "1                       to buy or not to buy (in la)       0\n",
       "2  2005 Honda Accord LX, 4 cyl, 154,000 miles. Ba...       0\n",
       "3  Exterior windshield tint to block UV &amp; IR ...       0\n",
       "4       Can I fix my leather imitation seats myself?       0"
      ]
     },
     "execution_count": 20,
     "metadata": {},
     "output_type": "execute_result"
    }
   ],
   "source": [
    "final_df.head()"
   ]
  },
  {
   "cell_type": "code",
   "execution_count": 21,
   "metadata": {},
   "outputs": [
    {
     "data": {
      "text/html": [
       "<div>\n",
       "<style scoped>\n",
       "    .dataframe tbody tr th:only-of-type {\n",
       "        vertical-align: middle;\n",
       "    }\n",
       "\n",
       "    .dataframe tbody tr th {\n",
       "        vertical-align: top;\n",
       "    }\n",
       "\n",
       "    .dataframe thead th {\n",
       "        text-align: right;\n",
       "    }\n",
       "</style>\n",
       "<table border=\"1\" class=\"dataframe\">\n",
       "  <thead>\n",
       "    <tr style=\"text-align: right;\">\n",
       "      <th></th>\n",
       "      <th>title</th>\n",
       "      <th>target</th>\n",
       "    </tr>\n",
       "  </thead>\n",
       "  <tbody>\n",
       "    <tr>\n",
       "      <th>5095</th>\n",
       "      <td>Recommendations on Which Motorcycle to Purchase</td>\n",
       "      <td>1</td>\n",
       "    </tr>\n",
       "    <tr>\n",
       "      <th>5096</th>\n",
       "      <td>600cc supersport as a second bike?</td>\n",
       "      <td>1</td>\n",
       "    </tr>\n",
       "    <tr>\n",
       "      <th>5097</th>\n",
       "      <td>Am I bogging down my engine? What RPMs should ...</td>\n",
       "      <td>1</td>\n",
       "    </tr>\n",
       "    <tr>\n",
       "      <th>5098</th>\n",
       "      <td>September Cross Country Roadtrip</td>\n",
       "      <td>1</td>\n",
       "    </tr>\n",
       "    <tr>\n",
       "      <th>5099</th>\n",
       "      <td>Dealer fees seem extreme</td>\n",
       "      <td>1</td>\n",
       "    </tr>\n",
       "  </tbody>\n",
       "</table>\n",
       "</div>"
      ],
      "text/plain": [
       "                                                  title  target\n",
       "5095    Recommendations on Which Motorcycle to Purchase       1\n",
       "5096                 600cc supersport as a second bike?       1\n",
       "5097  Am I bogging down my engine? What RPMs should ...       1\n",
       "5098                   September Cross Country Roadtrip       1\n",
       "5099                           Dealer fees seem extreme       1"
      ]
     },
     "execution_count": 21,
     "metadata": {},
     "output_type": "execute_result"
    }
   ],
   "source": [
    "final_df.tail()"
   ]
  },
  {
   "cell_type": "code",
   "execution_count": 22,
   "metadata": {},
   "outputs": [
    {
     "data": {
      "text/plain": [
       "(10100, 2)"
      ]
     },
     "execution_count": 22,
     "metadata": {},
     "output_type": "execute_result"
    }
   ],
   "source": [
    "#final rows are 10,000\n",
    "final_df.shape"
   ]
  },
  {
   "cell_type": "code",
   "execution_count": 23,
   "metadata": {},
   "outputs": [],
   "source": [
    "# remove rows in case of duplicacy\n",
    "final_df.drop_duplicates(keep='first', inplace=True)"
   ]
  },
  {
   "cell_type": "code",
   "execution_count": 24,
   "metadata": {},
   "outputs": [
    {
     "data": {
      "text/plain": [
       "(9806, 2)"
      ]
     },
     "execution_count": 24,
     "metadata": {},
     "output_type": "execute_result"
    }
   ],
   "source": [
    "final_df.shape"
   ]
  },
  {
   "cell_type": "code",
   "execution_count": 25,
   "metadata": {},
   "outputs": [
    {
     "data": {
      "text/plain": [
       "title     0\n",
       "target    0\n",
       "dtype: int64"
      ]
     },
     "execution_count": 25,
     "metadata": {},
     "output_type": "execute_result"
    }
   ],
   "source": [
    "# to check if there are any rows with null values\n",
    "final_df.isnull().sum()"
   ]
  },
  {
   "cell_type": "markdown",
   "metadata": {},
   "source": [
    "# Baseline Score\n"
   ]
  },
  {
   "cell_type": "code",
   "execution_count": 47,
   "metadata": {},
   "outputs": [
    {
     "data": {
      "text/plain": [
       "1    0.506221\n",
       "0    0.493779\n",
       "Name: target, dtype: float64"
      ]
     },
     "execution_count": 47,
     "metadata": {},
     "output_type": "execute_result"
    }
   ],
   "source": [
    "# Check what we need to check in a classification problem.\n",
    "final_df['target'].value_counts(normalize=True)"
   ]
  },
  {
   "cell_type": "code",
   "execution_count": 27,
   "metadata": {},
   "outputs": [],
   "source": [
    "#saving data to csv filw with name reddit_posts\n",
    "final_df.to_csv('reddit_posts.csv')"
   ]
  },
  {
   "cell_type": "markdown",
   "metadata": {},
   "source": [
    "# PART 3: Modelling"
   ]
  },
  {
   "cell_type": "code",
   "execution_count": 28,
   "metadata": {},
   "outputs": [],
   "source": [
    "# import libraries that are likely to use in this part\n",
    "import pandas as pd\n",
    "import matplotlib.pyplot as plt\n",
    "\n",
    "from sklearn.feature_extraction.text import CountVectorizer\n",
    "from sklearn.model_selection import train_test_split, GridSearchCV\n",
    "from sklearn.ensemble import RandomForestClassifier\n",
    "from sklearn.linear_model import LogisticRegression\n",
    "from sklearn.metrics import confusion_matrix, ConfusionMatrixDisplay\n",
    "\n",
    "%matplotlib inline"
   ]
  },
  {
   "cell_type": "code",
   "execution_count": 29,
   "metadata": {},
   "outputs": [],
   "source": [
    "# load reddit_posts csv file\n",
    "reddit_posts_df = pd.read_csv('reddit_posts.csv').drop(columns='Unnamed: 0')"
   ]
  },
  {
   "cell_type": "code",
   "execution_count": 30,
   "metadata": {},
   "outputs": [
    {
     "data": {
      "text/html": [
       "<div>\n",
       "<style scoped>\n",
       "    .dataframe tbody tr th:only-of-type {\n",
       "        vertical-align: middle;\n",
       "    }\n",
       "\n",
       "    .dataframe tbody tr th {\n",
       "        vertical-align: top;\n",
       "    }\n",
       "\n",
       "    .dataframe thead th {\n",
       "        text-align: right;\n",
       "    }\n",
       "</style>\n",
       "<table border=\"1\" class=\"dataframe\">\n",
       "  <thead>\n",
       "    <tr style=\"text-align: right;\">\n",
       "      <th></th>\n",
       "      <th>title</th>\n",
       "      <th>target</th>\n",
       "    </tr>\n",
       "  </thead>\n",
       "  <tbody>\n",
       "    <tr>\n",
       "      <th>0</th>\n",
       "      <td>Warning lights come on when driving fast</td>\n",
       "      <td>0</td>\n",
       "    </tr>\n",
       "    <tr>\n",
       "      <th>1</th>\n",
       "      <td>to buy or not to buy (in la)</td>\n",
       "      <td>0</td>\n",
       "    </tr>\n",
       "    <tr>\n",
       "      <th>2</th>\n",
       "      <td>2005 Honda Accord LX, 4 cyl, 154,000 miles. Ba...</td>\n",
       "      <td>0</td>\n",
       "    </tr>\n",
       "    <tr>\n",
       "      <th>3</th>\n",
       "      <td>Exterior windshield tint to block UV &amp;amp; IR ...</td>\n",
       "      <td>0</td>\n",
       "    </tr>\n",
       "    <tr>\n",
       "      <th>4</th>\n",
       "      <td>Can I fix my leather imitation seats myself?</td>\n",
       "      <td>0</td>\n",
       "    </tr>\n",
       "  </tbody>\n",
       "</table>\n",
       "</div>"
      ],
      "text/plain": [
       "                                               title  target\n",
       "0           Warning lights come on when driving fast       0\n",
       "1                       to buy or not to buy (in la)       0\n",
       "2  2005 Honda Accord LX, 4 cyl, 154,000 miles. Ba...       0\n",
       "3  Exterior windshield tint to block UV &amp; IR ...       0\n",
       "4       Can I fix my leather imitation seats myself?       0"
      ]
     },
     "execution_count": 30,
     "metadata": {},
     "output_type": "execute_result"
    }
   ],
   "source": [
    "reddit_posts_df.head()"
   ]
  },
  {
   "cell_type": "code",
   "execution_count": 50,
   "metadata": {},
   "outputs": [],
   "source": [
    "X = reddit_posts_df['title']\n",
    "y = reddit_posts_df['target']"
   ]
  },
  {
   "cell_type": "code",
   "execution_count": 70,
   "metadata": {},
   "outputs": [],
   "source": [
    "# Split the data into the training and testing sets.\n",
    "X_train, X_test, y_train, y_test = train_test_split(X,\n",
    "                                                    y,\n",
    "                                                    random_state=42,\n",
    "                                                    test_size=0.25,\n",
    "                                                    stratify=y)\n"
   ]
  },
  {
   "cell_type": "markdown",
   "metadata": {},
   "source": [
    "# CountVectorize"
   ]
  },
  {
   "cell_type": "code",
   "execution_count": 71,
   "metadata": {},
   "outputs": [],
   "source": [
    "# Instantiate a CountVectorizer with some arguments\n",
    "cvec = CountVectorizer(stop_words='english', ngram_range=(1, 2),min_df=.005)"
   ]
  },
  {
   "cell_type": "code",
   "execution_count": 72,
   "metadata": {},
   "outputs": [
    {
     "data": {
      "text/plain": [
       "CountVectorizer(min_df=0.005, ngram_range=(1, 2), stop_words='english')"
      ]
     },
     "execution_count": 72,
     "metadata": {},
     "output_type": "execute_result"
    }
   ],
   "source": [
    "# Fit the vectorizer on our corpus\n",
    "cvec.fit(X_train)"
   ]
  },
  {
   "cell_type": "code",
   "execution_count": 96,
   "metadata": {},
   "outputs": [],
   "source": [
    "# Transform the corpus\n",
    "X_train = cvec.transform(reddit_posts_df['title'])"
   ]
  },
  {
   "cell_type": "code",
   "execution_count": 97,
   "metadata": {},
   "outputs": [
    {
     "data": {
      "image/png": "[encoded data removed]",
      "text/plain": [
       "<Figure size 576x576 with 1 Axes>"
      ]
     },
     "metadata": {
      "needs_background": "light"
     },
     "output_type": "display_data"
    }
   ],
   "source": [
    "X_train = cvec.transform(reddit_posts_df['title'])\n",
    "plt.figure(figsize=(8,8))\n",
    "X_train=pd.DataFrame(X_train.toarray(), columns=cvec.get_feature_names())\n",
    "X_train.sum().sort_values(ascending=False).head(15).plot(kind='barh')\n",
    "plt.xlabel('Count of top 15 words used in Title for both Cars & Motorbike other than stopwords');"
   ]
  },
  {
   "cell_type": "code",
   "execution_count": 106,
   "metadata": {},
   "outputs": [
    {
     "data": {
      "image/png": "[encoded data removed]",
      "text/plain": [
       "<Figure size 576x576 with 1 Axes>"
      ]
     },
     "metadata": {
      "needs_background": "light"
     },
     "output_type": "display_data"
    }
   ],
   "source": [
    "cvec.fit(X_train)\n",
    "X_train = cvec.transform(cars_df['title'])\n",
    "plt.figure(figsize=(8,8))\n",
    "X_train=pd.DataFrame(X_train.toarray(), columns=cvec.get_feature_names())\n",
    "X_train.sum().sort_values(ascending=False).head(15).plot(kind='barh');\n",
    "plt.xlabel('Top 15 words used in Title of Cars');"
   ]
  },
  {
   "cell_type": "code",
   "execution_count": 107,
   "metadata": {},
   "outputs": [
    {
     "data": {
      "image/png": "[encoded data removed]",
      "text/plain": [
       "<Figure size 576x576 with 1 Axes>"
      ]
     },
     "metadata": {
      "needs_background": "light"
     },
     "output_type": "display_data"
    }
   ],
   "source": [
    "cvec.fit(X_train)\n",
    "X_train = cvec.transform(motorcycles_df['title'])\n",
    "plt.figure(figsize=(8,8))\n",
    "X_train=pd.DataFrame(X_train.toarray(), columns=cvec.get_feature_names())\n",
    "X_train.sum().sort_values(ascending=False).head(15).plot(kind='barh')\n",
    "plt.xlabel('Top 15 words used in Title of Motorbikes');"
   ]
  },
  {
   "cell_type": "code",
   "execution_count": 55,
   "metadata": {},
   "outputs": [
    {
     "data": {
      "text/plain": [
       "<7354x139 sparse matrix of type '<class 'numpy.int64'>'\n",
       "\twith 12712 stored elements in Compressed Sparse Row format>"
      ]
     },
     "execution_count": 55,
     "metadata": {},
     "output_type": "execute_result"
    }
   ],
   "source": [
    "X_train"
   ]
  },
  {
   "cell_type": "code",
   "execution_count": 98,
   "metadata": {},
   "outputs": [
    {
     "data": {
      "text/plain": [
       "(9806, 140)"
      ]
     },
     "execution_count": 98,
     "metadata": {},
     "output_type": "execute_result"
    }
   ],
   "source": [
    "X_train.shape"
   ]
  },
  {
   "cell_type": "code",
   "execution_count": 99,
   "metadata": {},
   "outputs": [
    {
     "data": {
      "text/plain": [
       "(7354,)"
      ]
     },
     "execution_count": 99,
     "metadata": {},
     "output_type": "execute_result"
    }
   ],
   "source": [
    "y_train.shape"
   ]
  },
  {
   "cell_type": "code",
   "execution_count": 58,
   "metadata": {},
   "outputs": [
    {
     "data": {
      "text/plain": [
       "['10', '2015', '2016', '2020', '2021', '2022', 'advice', 'air', 'amp']"
      ]
     },
     "execution_count": 58,
     "metadata": {},
     "output_type": "execute_result"
    }
   ],
   "source": [
    "# first 10\n",
    "cvec.get_feature_names()[1:10:1]"
   ]
  },
  {
   "cell_type": "code",
   "execution_count": 59,
   "metadata": {},
   "outputs": [],
   "source": [
    "# Transform test\n",
    "X_test = cvec.transform(X_test)"
   ]
  },
  {
   "cell_type": "code",
   "execution_count": 60,
   "metadata": {},
   "outputs": [
    {
     "data": {
      "text/plain": [
       "1    0.506117\n",
       "0    0.493883\n",
       "Name: target, dtype: float64"
      ]
     },
     "execution_count": 60,
     "metadata": {},
     "output_type": "execute_result"
    }
   ],
   "source": [
    "y_test.value_counts(normalize=True)"
   ]
  },
  {
   "cell_type": "markdown",
   "metadata": {},
   "source": [
    "## Random Forest Model"
   ]
  },
  {
   "cell_type": "code",
   "execution_count": 42,
   "metadata": {},
   "outputs": [],
   "source": [
    "def rf_model():\n",
    "    \n",
    "    # parameters dictionary\n",
    "    #ref:https://scikit-learn.org/stable/modules/generated/sklearn.ensemble.RandomForestClassifier.html\n",
    "    params = {\n",
    "            'n_estimators': [10, 25, 30],\n",
    "            'criterion': ['entropy'],\n",
    "            'max_depth': [None, 5, 15, 20],\n",
    "            'bootstrap': [True, False],\n",
    "            'min_samples_split': [5, 15, 25],\n",
    "            'max_features': [None, 'log2', 'auto',  .10, .25, .50],\n",
    "            'warm_start': [True],\n",
    "            'random_state': [42]\n",
    "    }\n",
    "    \n",
    "    gs = GridSearchCV(RandomForestClassifier(),\n",
    "                        params,\n",
    "                        cv = 5,\n",
    "                        verbose = 1,\n",
    "                        n_jobs = -1)\n",
    "    \n",
    "    # fit training data into the model\n",
    "    gs.fit(X_train, y_train)\n",
    "     \n",
    "    print(f'Train score = {gs.score(X_train, y_train)}')\n",
    "    print(f'Test score = {gs.score(X_test, y_test)}')\n",
    "    print(f'Best params = {gs.best_params_}')\n",
    "    \n",
    "    predictions = gs.predict(X_test)           # predictions for test data\n",
    "    cm = confusion_matrix(y_test, predictions)\n",
    "    ConfusionMatrixDisplay(cm).plot();         # plot confusion matrix"
   ]
  },
  {
   "cell_type": "code",
   "execution_count": 43,
   "metadata": {},
   "outputs": [
    {
     "name": "stdout",
     "output_type": "stream",
     "text": [
      "Fitting 5 folds for each of 432 candidates, totalling 2160 fits\n"
     ]
    },
    {
     "name": "stderr",
     "output_type": "stream",
     "text": [
      "[Parallel(n_jobs=-1)]: Using backend LokyBackend with 8 concurrent workers.\n",
      "[Parallel(n_jobs=-1)]: Done  34 tasks      | elapsed:    7.0s\n",
      "[Parallel(n_jobs=-1)]: Done 184 tasks      | elapsed:   15.8s\n",
      "[Parallel(n_jobs=-1)]: Done 434 tasks      | elapsed:   27.3s\n",
      "[Parallel(n_jobs=-1)]: Done 784 tasks      | elapsed:   37.7s\n",
      "[Parallel(n_jobs=-1)]: Done 1234 tasks      | elapsed:  1.1min\n",
      "[Parallel(n_jobs=-1)]: Done 1784 tasks      | elapsed:  1.5min\n",
      "[Parallel(n_jobs=-1)]: Done 2160 out of 2160 | elapsed:  1.7min finished\n"
     ]
    },
    {
     "name": "stdout",
     "output_type": "stream",
     "text": [
      "Train score = 0.8260810443296165\n",
      "Test score = 0.7687601957585645\n",
      "Best params = {'bootstrap': True, 'criterion': 'entropy', 'max_depth': None, 'max_features': 0.1, 'min_samples_split': 5, 'n_estimators': 30, 'random_state': 42, 'warm_start': True}\n"
     ]
    },
    {
     "data": {
      "image/png": "[encoded data removed]",
      "text/plain": [
       "<Figure size 432x288 with 2 Axes>"
      ]
     },
     "metadata": {
      "needs_background": "light"
     },
     "output_type": "display_data"
    }
   ],
   "source": [
    "#random forest\n",
    "rf_model()"
   ]
  },
  {
   "cell_type": "markdown",
   "metadata": {},
   "source": [
    "## Logistic Regression Model"
   ]
  },
  {
   "cell_type": "code",
   "execution_count": 44,
   "metadata": {},
   "outputs": [],
   "source": [
    "def lr_model():\n",
    "    \n",
    "    # parameters dictionary\n",
    "    #ref:https://scikit-learn.org/stable/modules/generated/sklearn.linear_model.LogisticRegression.html\n",
    "    params = {\n",
    "            'penalty': ['l2'],\n",
    "            'C': [1,1.5, 2, 2.5,3],\n",
    "            'class_weight': ['balanced'],\n",
    "            'warm_start': [True, False],            \n",
    "            'random_state': [42],\n",
    "            'solver': ['lbfgs', 'liblinear']\n",
    "    }\n",
    "        \n",
    "    gs = GridSearchCV(LogisticRegression(),\n",
    "                        params,\n",
    "                        cv = 5,\n",
    "                        verbose = 1,\n",
    "                        n_jobs = -1)\n",
    "    \n",
    "    # fit training data into the model\n",
    "    gs.fit(X_train, y_train)\n",
    "     \n",
    "    print(f'Train score = {gs.score(X_train, y_train)}')\n",
    "    print(f'Test score = {gs.score(X_test, y_test)}')\n",
    "    print(f'Best params = {gs.best_params_}')\n",
    "    \n",
    "    pred = gs.predict(X_test)             # predictions for test data\n",
    "    cm = confusion_matrix(y_test, pred)\n",
    "    ConfusionMatrixDisplay(cm).plot();    # plot confusion matrix"
   ]
  },
  {
   "cell_type": "code",
   "execution_count": 45,
   "metadata": {},
   "outputs": [
    {
     "name": "stdout",
     "output_type": "stream",
     "text": [
      "Fitting 5 folds for each of 20 candidates, totalling 100 fits\n"
     ]
    },
    {
     "name": "stderr",
     "output_type": "stream",
     "text": [
      "[Parallel(n_jobs=-1)]: Using backend LokyBackend with 8 concurrent workers.\n",
      "[Parallel(n_jobs=-1)]: Done  56 tasks      | elapsed:    0.5s\n",
      "[Parallel(n_jobs=-1)]: Done  85 out of 100 | elapsed:    0.8s remaining:    0.1s\n",
      "[Parallel(n_jobs=-1)]: Done 100 out of 100 | elapsed:    0.9s finished\n"
     ]
    },
    {
     "name": "stdout",
     "output_type": "stream",
     "text": [
      "Train score = 0.7827032907261354\n",
      "Test score = 0.7728384991843393\n",
      "Best params = {'C': 2, 'class_weight': 'balanced', 'penalty': 'l2', 'random_state': 42, 'solver': 'lbfgs', 'warm_start': True}\n"
     ]
    },
    {
     "data": {
      "image/png": "[encoded data removed]",
      "text/plain": [
       "<Figure size 432x288 with 2 Axes>"
      ]
     },
     "metadata": {
      "needs_background": "light"
     },
     "output_type": "display_data"
    }
   ],
   "source": [
    "lr_model()"
   ]
  },
  {
   "cell_type": "markdown",
   "metadata": {},
   "source": [
    "# Conclusion"
   ]
  },
  {
   "cell_type": "markdown",
   "metadata": {},
   "source": [
    "As we can see both the models gave almost same accuracy for the test data while random forest model gave slightly better accuracy with the training data."
   ]
  },
  {
   "cell_type": "markdown",
   "metadata": {},
   "source": [
    "The accuracy of classification is fine but not that good. There can be many reasons behind this but I think the main reason is similarity of subreddits that are cars and motorcycles. Both are vehicle which makes many of their characteristics similar and it is possible that many words can be frequently use in both subreddits which leds to lowering down the accuracy."
   ]
  },
  {
   "cell_type": "markdown",
   "metadata": {},
   "source": [
    " # Recommendations"
   ]
  },
  {
   "cell_type": "markdown",
   "metadata": {},
   "source": [
    "This code can be used to classify any two subreddits just by changing subreddits name while retrieving data. "
   ]
  },
  {
   "cell_type": "markdown",
   "metadata": {},
   "source": [
    "While instantiating a CountVectorize object, we use min_df to ignore rarely occured words otherwise number of columns in input X would be high which increase the performance a bit but this will make our random forest model inefficient in terms of time as it will take about 20 to 30 mins to train. So, if you want a slight better performance you can ignore min_df. "
   ]
  },
  {
   "cell_type": "markdown",
   "metadata": {},
   "source": [
    "The performance of models can change based on selection of subreddits, number of posts and our way of processing the data. "
   ]
  },
  {
   "cell_type": "code",
   "execution_count": null,
   "metadata": {},
   "outputs": [],
   "source": []
  }
 ],
 "metadata": {
  "kernelspec": {
   "display_name": "Python 3",
   "language": "python",
   "name": "python3"
  },
  "language_info": {
   "codemirror_mode": {
    "name": "ipython",
    "version": 3
   },
   "file_extension": ".py",
   "mimetype": "text/x-python",
   "name": "python",
   "nbconvert_exporter": "python",
   "pygments_lexer": "ipython3",
   "version": "3.8.3"
  }
 },
 "nbformat": 4,
 "nbformat_minor": 4
}
